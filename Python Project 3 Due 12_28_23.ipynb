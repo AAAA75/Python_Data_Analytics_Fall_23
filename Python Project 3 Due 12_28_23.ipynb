{
 "cells": [
  {
   "cell_type": "markdown",
   "id": "abee9b64",
   "metadata": {},
   "source": [
    "Python Project 3- Due Date 12/28/23: Exploratory and Comparative Analysis:Data NYPD Arrest Data Year To Date \n",
    "\n",
    "                             **Python Fall 2023-Imran Khan, Jasmin Benjamin**\n",
    "\n",
    "▪ PROJECT 3- COMPARATIVE ANALYSIS OF NYPD ARREST DATA YEAR TO DATE (CRIME DATA)\n",
    "\n",
    "▪ DATA WEBSITE:https://data.cityofnewyork.us/Public-Safety/NYPD-Arrest-Data-Year-to-Date-/uip8-fykc\n",
    "\n",
    "▪ The goal of this project is to analyze NYPD arrest data\n",
    "\n",
    "▪ Pick any zip code/neighborhood/district in this dataset as an initial comparison point\n",
    "\n",
    "▪ Pick a feature/measure/column\n",
    "\n",
    "▪ Compare above entity to any other (different) entity - you only need to do one additional comparison point (but you’re welcome to do more comparisons if you feel compelled to do so)\n",
    "\n",
    "▪ The analysis should include some descriptive statistics(mean,median,count)\n",
    "\n",
    "▪ The analysis should include one cleaning task (or more)(renaming column,subset,missing value,drop columns)\n",
    "\n",
    "▪ The analysis should include one visualization (or more)\n",
    "\n",
    "▪ The analysis should include a brief conclusion statement that includes a discussion on bias (not more than four sentences)\n",
    "\n",
    "ANALYSIS QUESTIONS: ▪What are the most common reasons for arrests in each borough? ▪Which gender has the highest number of arrests in each borough? ▪Which age group has the most arrests in each borough? ▪ Which borough had the total highest number of arrests?  ▪ Which Precinct had the highest number of arrest in each borough?\n",
    "\n",
    "▪ DATA :This is a breakdown of every arrest effected in NYC by the NYPD during the current year. This data is manually extracted every quarter and reviewed by the Office of Management Analysis and Planning. Each record represents an arrest effected in NYC by the NYPD and includes information about the type of crime, the location and time of enforcement. In addition, information related to suspect demographics is also included. This data can be used by the public to explore the nature of police enforcement activity. \n",
    "\n",
    "▪ DATA DICTIONARY: NYPD_Arrest_YTD_DataDictionary.xlsx\n",
    "\n",
    "▪ DATA FOOTNOTES: file:///C:/Users/Jasmin%20Benjamin/Downloads/NYPD_Arrest_Incident_Level_Data_Footnotes.pdf\n",
    "\n",
    "▪ Borough of arrest. B(Bronx), S(Staten Island), K(Brooklyn), M(Manhattan), Q(Queens)\n",
    "\n",
    "ADDITIONAL INFORMATION:\n",
    "\n",
    "▪ 2020 Census population in each borough: \n",
    "\n",
    "Borough\t   Population-\n",
    "The Bronx-\t1,472,654\n",
    "Brooklyn-\t2,736,074\n",
    "Manhattan-\t1,694,251\n",
    "Queens-\t    2,405,464\n",
    "Staten Island-\t495,747\n",
    "\n",
    "▪ Borough\tPoverty Rate\n",
    "\n",
    "The Bronx-\t24.4%\n",
    "Brooklyn-\t17.8%\n",
    "Manhattan-\t16.3%\n",
    "Queens-\t10.3%\n",
    "Staten Island-\t10.1%"
   ]
  },
  {
   "cell_type": "code",
   "execution_count": 55,
   "id": "4e244434",
   "metadata": {},
   "outputs": [],
   "source": [
    "import pandas as pd\n",
    "import numpy as np\n",
    "import matplotlib.pyplot as plt\n",
    "\n",
    "import seaborn as sns\n",
    "%matplotlib inline"
   ]
  },
  {
   "cell_type": "code",
   "execution_count": 116,
   "id": "2caa594f",
   "metadata": {},
   "outputs": [],
   "source": [
    "#Import data\n",
    "# Read the data set\n",
    "df = pd.read_csv ('https://data.cityofnewyork.us/api/views/uip8-fykc/rows.csv?accessType=DOWNLOAD') # Read the data set"
   ]
  },
  {
   "cell_type": "code",
   "execution_count": 57,
   "id": "a8468939",
   "metadata": {},
   "outputs": [
    {
     "data": {
      "text/plain": [
       "(170095, 19)"
      ]
     },
     "execution_count": 57,
     "metadata": {},
     "output_type": "execute_result"
    }
   ],
   "source": [
    "#Rows and columns\n",
    "df.shape"
   ]
  },
  {
   "cell_type": "code",
   "execution_count": 58,
   "id": "7cfd4702",
   "metadata": {},
   "outputs": [
    {
     "data": {
      "text/html": [
       "<div>\n",
       "<style scoped>\n",
       "    .dataframe tbody tr th:only-of-type {\n",
       "        vertical-align: middle;\n",
       "    }\n",
       "\n",
       "    .dataframe tbody tr th {\n",
       "        vertical-align: top;\n",
       "    }\n",
       "\n",
       "    .dataframe thead th {\n",
       "        text-align: right;\n",
       "    }\n",
       "</style>\n",
       "<table border=\"1\" class=\"dataframe\">\n",
       "  <thead>\n",
       "    <tr style=\"text-align: right;\">\n",
       "      <th></th>\n",
       "      <th>ARREST_KEY</th>\n",
       "      <th>PD_CD</th>\n",
       "      <th>KY_CD</th>\n",
       "      <th>ARREST_PRECINCT</th>\n",
       "      <th>JURISDICTION_CODE</th>\n",
       "      <th>X_COORD_CD</th>\n",
       "      <th>Y_COORD_CD</th>\n",
       "      <th>Latitude</th>\n",
       "      <th>Longitude</th>\n",
       "    </tr>\n",
       "  </thead>\n",
       "  <tbody>\n",
       "    <tr>\n",
       "      <th>count</th>\n",
       "      <td>1.700950e+05</td>\n",
       "      <td>170095.000000</td>\n",
       "      <td>170082.000000</td>\n",
       "      <td>170095.000000</td>\n",
       "      <td>170095.000000</td>\n",
       "      <td>1.700950e+05</td>\n",
       "      <td>170095.000000</td>\n",
       "      <td>170095.000000</td>\n",
       "      <td>170095.000000</td>\n",
       "    </tr>\n",
       "    <tr>\n",
       "      <th>mean</th>\n",
       "      <td>2.683705e+08</td>\n",
       "      <td>425.242200</td>\n",
       "      <td>249.766342</td>\n",
       "      <td>63.423569</td>\n",
       "      <td>0.945918</td>\n",
       "      <td>1.005863e+06</td>\n",
       "      <td>208326.176925</td>\n",
       "      <td>40.738196</td>\n",
       "      <td>-73.921525</td>\n",
       "    </tr>\n",
       "    <tr>\n",
       "      <th>std</th>\n",
       "      <td>4.027782e+06</td>\n",
       "      <td>275.312255</td>\n",
       "      <td>148.500439</td>\n",
       "      <td>34.596068</td>\n",
       "      <td>7.683909</td>\n",
       "      <td>2.152952e+04</td>\n",
       "      <td>29737.941320</td>\n",
       "      <td>0.128134</td>\n",
       "      <td>0.195134</td>\n",
       "    </tr>\n",
       "    <tr>\n",
       "      <th>min</th>\n",
       "      <td>2.611809e+08</td>\n",
       "      <td>2.000000</td>\n",
       "      <td>101.000000</td>\n",
       "      <td>1.000000</td>\n",
       "      <td>0.000000</td>\n",
       "      <td>0.000000e+00</td>\n",
       "      <td>0.000000</td>\n",
       "      <td>0.000000</td>\n",
       "      <td>-74.253187</td>\n",
       "    </tr>\n",
       "    <tr>\n",
       "      <th>25%</th>\n",
       "      <td>2.649555e+08</td>\n",
       "      <td>114.000000</td>\n",
       "      <td>113.000000</td>\n",
       "      <td>40.000000</td>\n",
       "      <td>0.000000</td>\n",
       "      <td>9.913600e+05</td>\n",
       "      <td>186065.000000</td>\n",
       "      <td>40.677251</td>\n",
       "      <td>-73.974365</td>\n",
       "    </tr>\n",
       "    <tr>\n",
       "      <th>50%</th>\n",
       "      <td>2.685036e+08</td>\n",
       "      <td>397.000000</td>\n",
       "      <td>236.000000</td>\n",
       "      <td>62.000000</td>\n",
       "      <td>0.000000</td>\n",
       "      <td>1.005511e+06</td>\n",
       "      <td>206851.000000</td>\n",
       "      <td>40.734434</td>\n",
       "      <td>-73.923234</td>\n",
       "    </tr>\n",
       "    <tr>\n",
       "      <th>75%</th>\n",
       "      <td>2.718261e+08</td>\n",
       "      <td>705.000000</td>\n",
       "      <td>344.000000</td>\n",
       "      <td>101.000000</td>\n",
       "      <td>0.000000</td>\n",
       "      <td>1.017933e+06</td>\n",
       "      <td>236175.000000</td>\n",
       "      <td>40.814867</td>\n",
       "      <td>-73.878333</td>\n",
       "    </tr>\n",
       "    <tr>\n",
       "      <th>max</th>\n",
       "      <td>2.752350e+08</td>\n",
       "      <td>997.000000</td>\n",
       "      <td>995.000000</td>\n",
       "      <td>123.000000</td>\n",
       "      <td>97.000000</td>\n",
       "      <td>1.067185e+06</td>\n",
       "      <td>271819.000000</td>\n",
       "      <td>40.912714</td>\n",
       "      <td>0.000000</td>\n",
       "    </tr>\n",
       "  </tbody>\n",
       "</table>\n",
       "</div>"
      ],
      "text/plain": [
       "         ARREST_KEY          PD_CD          KY_CD  ARREST_PRECINCT  \\\n",
       "count  1.700950e+05  170095.000000  170082.000000    170095.000000   \n",
       "mean   2.683705e+08     425.242200     249.766342        63.423569   \n",
       "std    4.027782e+06     275.312255     148.500439        34.596068   \n",
       "min    2.611809e+08       2.000000     101.000000         1.000000   \n",
       "25%    2.649555e+08     114.000000     113.000000        40.000000   \n",
       "50%    2.685036e+08     397.000000     236.000000        62.000000   \n",
       "75%    2.718261e+08     705.000000     344.000000       101.000000   \n",
       "max    2.752350e+08     997.000000     995.000000       123.000000   \n",
       "\n",
       "       JURISDICTION_CODE    X_COORD_CD     Y_COORD_CD       Latitude  \\\n",
       "count      170095.000000  1.700950e+05  170095.000000  170095.000000   \n",
       "mean            0.945918  1.005863e+06  208326.176925      40.738196   \n",
       "std             7.683909  2.152952e+04   29737.941320       0.128134   \n",
       "min             0.000000  0.000000e+00       0.000000       0.000000   \n",
       "25%             0.000000  9.913600e+05  186065.000000      40.677251   \n",
       "50%             0.000000  1.005511e+06  206851.000000      40.734434   \n",
       "75%             0.000000  1.017933e+06  236175.000000      40.814867   \n",
       "max            97.000000  1.067185e+06  271819.000000      40.912714   \n",
       "\n",
       "           Longitude  \n",
       "count  170095.000000  \n",
       "mean      -73.921525  \n",
       "std         0.195134  \n",
       "min       -74.253187  \n",
       "25%       -73.974365  \n",
       "50%       -73.923234  \n",
       "75%       -73.878333  \n",
       "max         0.000000  "
      ]
     },
     "execution_count": 58,
     "metadata": {},
     "output_type": "execute_result"
    }
   ],
   "source": [
    "#descriptive statistics\n",
    "df.describe()"
   ]
  },
  {
   "cell_type": "code",
   "execution_count": 59,
   "id": "68a694f2",
   "metadata": {},
   "outputs": [
    {
     "data": {
      "text/html": [
       "<div>\n",
       "<style scoped>\n",
       "    .dataframe tbody tr th:only-of-type {\n",
       "        vertical-align: middle;\n",
       "    }\n",
       "\n",
       "    .dataframe tbody tr th {\n",
       "        vertical-align: top;\n",
       "    }\n",
       "\n",
       "    .dataframe thead th {\n",
       "        text-align: right;\n",
       "    }\n",
       "</style>\n",
       "<table border=\"1\" class=\"dataframe\">\n",
       "  <thead>\n",
       "    <tr style=\"text-align: right;\">\n",
       "      <th></th>\n",
       "      <th>ARREST_KEY</th>\n",
       "      <th>ARREST_DATE</th>\n",
       "      <th>PD_CD</th>\n",
       "      <th>PD_DESC</th>\n",
       "      <th>KY_CD</th>\n",
       "      <th>OFNS_DESC</th>\n",
       "      <th>LAW_CODE</th>\n",
       "      <th>LAW_CAT_CD</th>\n",
       "      <th>ARREST_BORO</th>\n",
       "      <th>ARREST_PRECINCT</th>\n",
       "      <th>JURISDICTION_CODE</th>\n",
       "      <th>AGE_GROUP</th>\n",
       "      <th>PERP_SEX</th>\n",
       "      <th>PERP_RACE</th>\n",
       "      <th>X_COORD_CD</th>\n",
       "      <th>Y_COORD_CD</th>\n",
       "      <th>Latitude</th>\n",
       "      <th>Longitude</th>\n",
       "      <th>New Georeferenced Column</th>\n",
       "    </tr>\n",
       "  </thead>\n",
       "  <tbody>\n",
       "    <tr>\n",
       "      <th>0</th>\n",
       "      <td>261209118</td>\n",
       "      <td>01/01/2023</td>\n",
       "      <td>109</td>\n",
       "      <td>ASSAULT 2,1,UNCLASSIFIED</td>\n",
       "      <td>106.0</td>\n",
       "      <td>FELONY ASSAULT</td>\n",
       "      <td>PL 1200501</td>\n",
       "      <td>F</td>\n",
       "      <td>K</td>\n",
       "      <td>77</td>\n",
       "      <td>0</td>\n",
       "      <td>45-64</td>\n",
       "      <td>F</td>\n",
       "      <td>BLACK</td>\n",
       "      <td>999335</td>\n",
       "      <td>186085</td>\n",
       "      <td>40.677426</td>\n",
       "      <td>-73.945615</td>\n",
       "      <td>POINT (-73.945615 40.677426)</td>\n",
       "    </tr>\n",
       "    <tr>\n",
       "      <th>1</th>\n",
       "      <td>262984267</td>\n",
       "      <td>02/03/2023</td>\n",
       "      <td>515</td>\n",
       "      <td>CONTROLLED SUBSTANCE,SALE 3</td>\n",
       "      <td>117.0</td>\n",
       "      <td>DANGEROUS DRUGS</td>\n",
       "      <td>PL 2203901</td>\n",
       "      <td>F</td>\n",
       "      <td>K</td>\n",
       "      <td>73</td>\n",
       "      <td>0</td>\n",
       "      <td>25-44</td>\n",
       "      <td>M</td>\n",
       "      <td>BLACK</td>\n",
       "      <td>1009318</td>\n",
       "      <td>178259</td>\n",
       "      <td>40.655923</td>\n",
       "      <td>-73.909650</td>\n",
       "      <td>POINT (-73.90965 40.655923)</td>\n",
       "    </tr>\n",
       "    <tr>\n",
       "      <th>2</th>\n",
       "      <td>263664549</td>\n",
       "      <td>02/15/2023</td>\n",
       "      <td>105</td>\n",
       "      <td>STRANGULATION 1ST</td>\n",
       "      <td>106.0</td>\n",
       "      <td>FELONY ASSAULT</td>\n",
       "      <td>PL 1211200</td>\n",
       "      <td>F</td>\n",
       "      <td>K</td>\n",
       "      <td>62</td>\n",
       "      <td>0</td>\n",
       "      <td>25-44</td>\n",
       "      <td>M</td>\n",
       "      <td>WHITE</td>\n",
       "      <td>982272</td>\n",
       "      <td>158771</td>\n",
       "      <td>40.602468</td>\n",
       "      <td>-74.007120</td>\n",
       "      <td>POINT (-74.00712 40.602468)</td>\n",
       "    </tr>\n",
       "    <tr>\n",
       "      <th>3</th>\n",
       "      <td>261345231</td>\n",
       "      <td>01/04/2023</td>\n",
       "      <td>105</td>\n",
       "      <td>STRANGULATION 1ST</td>\n",
       "      <td>106.0</td>\n",
       "      <td>FELONY ASSAULT</td>\n",
       "      <td>PL 1211200</td>\n",
       "      <td>F</td>\n",
       "      <td>M</td>\n",
       "      <td>32</td>\n",
       "      <td>0</td>\n",
       "      <td>25-44</td>\n",
       "      <td>M</td>\n",
       "      <td>BLACK</td>\n",
       "      <td>999899</td>\n",
       "      <td>238684</td>\n",
       "      <td>40.821797</td>\n",
       "      <td>-73.943457</td>\n",
       "      <td>POINT (-73.943457 40.821797)</td>\n",
       "    </tr>\n",
       "    <tr>\n",
       "      <th>4</th>\n",
       "      <td>263536618</td>\n",
       "      <td>02/13/2023</td>\n",
       "      <td>109</td>\n",
       "      <td>ASSAULT 2,1,UNCLASSIFIED</td>\n",
       "      <td>106.0</td>\n",
       "      <td>FELONY ASSAULT</td>\n",
       "      <td>PL 12005WX</td>\n",
       "      <td>F</td>\n",
       "      <td>K</td>\n",
       "      <td>71</td>\n",
       "      <td>0</td>\n",
       "      <td>25-44</td>\n",
       "      <td>M</td>\n",
       "      <td>BLACK</td>\n",
       "      <td>1001437</td>\n",
       "      <td>183080</td>\n",
       "      <td>40.669175</td>\n",
       "      <td>-73.938042</td>\n",
       "      <td>POINT (-73.938042 40.669175)</td>\n",
       "    </tr>\n",
       "  </tbody>\n",
       "</table>\n",
       "</div>"
      ],
      "text/plain": [
       "   ARREST_KEY ARREST_DATE  PD_CD                      PD_DESC  KY_CD  \\\n",
       "0   261209118  01/01/2023    109     ASSAULT 2,1,UNCLASSIFIED  106.0   \n",
       "1   262984267  02/03/2023    515  CONTROLLED SUBSTANCE,SALE 3  117.0   \n",
       "2   263664549  02/15/2023    105            STRANGULATION 1ST  106.0   \n",
       "3   261345231  01/04/2023    105            STRANGULATION 1ST  106.0   \n",
       "4   263536618  02/13/2023    109     ASSAULT 2,1,UNCLASSIFIED  106.0   \n",
       "\n",
       "         OFNS_DESC    LAW_CODE LAW_CAT_CD ARREST_BORO  ARREST_PRECINCT  \\\n",
       "0   FELONY ASSAULT  PL 1200501          F           K               77   \n",
       "1  DANGEROUS DRUGS  PL 2203901          F           K               73   \n",
       "2   FELONY ASSAULT  PL 1211200          F           K               62   \n",
       "3   FELONY ASSAULT  PL 1211200          F           M               32   \n",
       "4   FELONY ASSAULT  PL 12005WX          F           K               71   \n",
       "\n",
       "   JURISDICTION_CODE AGE_GROUP PERP_SEX PERP_RACE  X_COORD_CD  Y_COORD_CD  \\\n",
       "0                  0     45-64        F     BLACK      999335      186085   \n",
       "1                  0     25-44        M     BLACK     1009318      178259   \n",
       "2                  0     25-44        M     WHITE      982272      158771   \n",
       "3                  0     25-44        M     BLACK      999899      238684   \n",
       "4                  0     25-44        M     BLACK     1001437      183080   \n",
       "\n",
       "    Latitude  Longitude      New Georeferenced Column  \n",
       "0  40.677426 -73.945615  POINT (-73.945615 40.677426)  \n",
       "1  40.655923 -73.909650   POINT (-73.90965 40.655923)  \n",
       "2  40.602468 -74.007120   POINT (-74.00712 40.602468)  \n",
       "3  40.821797 -73.943457  POINT (-73.943457 40.821797)  \n",
       "4  40.669175 -73.938042  POINT (-73.938042 40.669175)  "
      ]
     },
     "execution_count": 59,
     "metadata": {},
     "output_type": "execute_result"
    }
   ],
   "source": [
    "#First rows\n",
    "df.head()"
   ]
  },
  {
   "cell_type": "code",
   "execution_count": 60,
   "id": "b752a1d2",
   "metadata": {},
   "outputs": [
    {
     "data": {
      "text/html": [
       "<div>\n",
       "<style scoped>\n",
       "    .dataframe tbody tr th:only-of-type {\n",
       "        vertical-align: middle;\n",
       "    }\n",
       "\n",
       "    .dataframe tbody tr th {\n",
       "        vertical-align: top;\n",
       "    }\n",
       "\n",
       "    .dataframe thead th {\n",
       "        text-align: right;\n",
       "    }\n",
       "</style>\n",
       "<table border=\"1\" class=\"dataframe\">\n",
       "  <thead>\n",
       "    <tr style=\"text-align: right;\">\n",
       "      <th></th>\n",
       "      <th>ARREST_KEY</th>\n",
       "      <th>ARREST_DATE</th>\n",
       "      <th>PD_CD</th>\n",
       "      <th>PD_DESC</th>\n",
       "      <th>KY_CD</th>\n",
       "      <th>OFNS_DESC</th>\n",
       "      <th>LAW_CODE</th>\n",
       "      <th>LAW_CAT_CD</th>\n",
       "      <th>ARREST_BORO</th>\n",
       "      <th>ARREST_PRECINCT</th>\n",
       "      <th>JURISDICTION_CODE</th>\n",
       "      <th>AGE_GROUP</th>\n",
       "      <th>PERP_SEX</th>\n",
       "      <th>PERP_RACE</th>\n",
       "      <th>X_COORD_CD</th>\n",
       "      <th>Y_COORD_CD</th>\n",
       "      <th>Latitude</th>\n",
       "      <th>Longitude</th>\n",
       "      <th>New Georeferenced Column</th>\n",
       "    </tr>\n",
       "  </thead>\n",
       "  <tbody>\n",
       "    <tr>\n",
       "      <th>170090</th>\n",
       "      <td>270955727</td>\n",
       "      <td>07/07/2023</td>\n",
       "      <td>397</td>\n",
       "      <td>ROBBERY,OPEN AREA UNCLASSIFIED</td>\n",
       "      <td>105.0</td>\n",
       "      <td>ROBBERY</td>\n",
       "      <td>PL 1601002</td>\n",
       "      <td>F</td>\n",
       "      <td>B</td>\n",
       "      <td>52</td>\n",
       "      <td>0</td>\n",
       "      <td>25-44</td>\n",
       "      <td>M</td>\n",
       "      <td>BLACK</td>\n",
       "      <td>1017273</td>\n",
       "      <td>255924</td>\n",
       "      <td>40.869067</td>\n",
       "      <td>-73.880600</td>\n",
       "      <td>POINT (-73.8806 40.869067)</td>\n",
       "    </tr>\n",
       "    <tr>\n",
       "      <th>170091</th>\n",
       "      <td>273117887</td>\n",
       "      <td>08/18/2023</td>\n",
       "      <td>681</td>\n",
       "      <td>CHILD, ENDANGERING WELFARE</td>\n",
       "      <td>233.0</td>\n",
       "      <td>SEX CRIMES</td>\n",
       "      <td>PL 2601001</td>\n",
       "      <td>M</td>\n",
       "      <td>B</td>\n",
       "      <td>47</td>\n",
       "      <td>0</td>\n",
       "      <td>25-44</td>\n",
       "      <td>F</td>\n",
       "      <td>BLACK</td>\n",
       "      <td>1026480</td>\n",
       "      <td>262584</td>\n",
       "      <td>40.887314</td>\n",
       "      <td>-73.847272</td>\n",
       "      <td>POINT (-73.8472717577564 40.8873136344706)</td>\n",
       "    </tr>\n",
       "    <tr>\n",
       "      <th>170092</th>\n",
       "      <td>274301006</td>\n",
       "      <td>09/13/2023</td>\n",
       "      <td>969</td>\n",
       "      <td>TRAFFIC,UNCLASSIFIED INFRACTIO</td>\n",
       "      <td>881.0</td>\n",
       "      <td>OTHER TRAFFIC INFRACTION</td>\n",
       "      <td>VTL051101A</td>\n",
       "      <td>M</td>\n",
       "      <td>S</td>\n",
       "      <td>122</td>\n",
       "      <td>0</td>\n",
       "      <td>25-44</td>\n",
       "      <td>M</td>\n",
       "      <td>WHITE HISPANIC</td>\n",
       "      <td>951857</td>\n",
       "      <td>161569</td>\n",
       "      <td>40.610087</td>\n",
       "      <td>-74.116666</td>\n",
       "      <td>POINT (-74.11666648991874 40.6100867091453)</td>\n",
       "    </tr>\n",
       "    <tr>\n",
       "      <th>170093</th>\n",
       "      <td>269912233</td>\n",
       "      <td>06/15/2023</td>\n",
       "      <td>490</td>\n",
       "      <td>STOLEN PROPERTY 3,POSSESSION</td>\n",
       "      <td>232.0</td>\n",
       "      <td>POSSESSION OF STOLEN PROPERTY</td>\n",
       "      <td>PL 1654000</td>\n",
       "      <td>M</td>\n",
       "      <td>K</td>\n",
       "      <td>62</td>\n",
       "      <td>0</td>\n",
       "      <td>25-44</td>\n",
       "      <td>M</td>\n",
       "      <td>BLACK</td>\n",
       "      <td>983469</td>\n",
       "      <td>157947</td>\n",
       "      <td>40.600204</td>\n",
       "      <td>-74.002812</td>\n",
       "      <td>POINT (-74.00281242 40.60020423)</td>\n",
       "    </tr>\n",
       "    <tr>\n",
       "      <th>170094</th>\n",
       "      <td>272045762</td>\n",
       "      <td>07/28/2023</td>\n",
       "      <td>729</td>\n",
       "      <td>FORGERY,ETC.,UNCLASSIFIED-FELO</td>\n",
       "      <td>113.0</td>\n",
       "      <td>FORGERY</td>\n",
       "      <td>PL 1702500</td>\n",
       "      <td>F</td>\n",
       "      <td>K</td>\n",
       "      <td>84</td>\n",
       "      <td>0</td>\n",
       "      <td>18-24</td>\n",
       "      <td>M</td>\n",
       "      <td>BLACK</td>\n",
       "      <td>988491</td>\n",
       "      <td>195163</td>\n",
       "      <td>40.702353</td>\n",
       "      <td>-73.984704</td>\n",
       "      <td>POINT (-73.98470449707197 40.70235306254946)</td>\n",
       "    </tr>\n",
       "  </tbody>\n",
       "</table>\n",
       "</div>"
      ],
      "text/plain": [
       "        ARREST_KEY ARREST_DATE  PD_CD                         PD_DESC  KY_CD  \\\n",
       "170090   270955727  07/07/2023    397  ROBBERY,OPEN AREA UNCLASSIFIED  105.0   \n",
       "170091   273117887  08/18/2023    681      CHILD, ENDANGERING WELFARE  233.0   \n",
       "170092   274301006  09/13/2023    969  TRAFFIC,UNCLASSIFIED INFRACTIO  881.0   \n",
       "170093   269912233  06/15/2023    490    STOLEN PROPERTY 3,POSSESSION  232.0   \n",
       "170094   272045762  07/28/2023    729  FORGERY,ETC.,UNCLASSIFIED-FELO  113.0   \n",
       "\n",
       "                            OFNS_DESC    LAW_CODE LAW_CAT_CD ARREST_BORO  \\\n",
       "170090                        ROBBERY  PL 1601002          F           B   \n",
       "170091                     SEX CRIMES  PL 2601001          M           B   \n",
       "170092       OTHER TRAFFIC INFRACTION  VTL051101A          M           S   \n",
       "170093  POSSESSION OF STOLEN PROPERTY  PL 1654000          M           K   \n",
       "170094                        FORGERY  PL 1702500          F           K   \n",
       "\n",
       "        ARREST_PRECINCT  JURISDICTION_CODE AGE_GROUP PERP_SEX       PERP_RACE  \\\n",
       "170090               52                  0     25-44        M           BLACK   \n",
       "170091               47                  0     25-44        F           BLACK   \n",
       "170092              122                  0     25-44        M  WHITE HISPANIC   \n",
       "170093               62                  0     25-44        M           BLACK   \n",
       "170094               84                  0     18-24        M           BLACK   \n",
       "\n",
       "        X_COORD_CD  Y_COORD_CD   Latitude  Longitude  \\\n",
       "170090     1017273      255924  40.869067 -73.880600   \n",
       "170091     1026480      262584  40.887314 -73.847272   \n",
       "170092      951857      161569  40.610087 -74.116666   \n",
       "170093      983469      157947  40.600204 -74.002812   \n",
       "170094      988491      195163  40.702353 -73.984704   \n",
       "\n",
       "                            New Georeferenced Column  \n",
       "170090                    POINT (-73.8806 40.869067)  \n",
       "170091    POINT (-73.8472717577564 40.8873136344706)  \n",
       "170092   POINT (-74.11666648991874 40.6100867091453)  \n",
       "170093              POINT (-74.00281242 40.60020423)  \n",
       "170094  POINT (-73.98470449707197 40.70235306254946)  "
      ]
     },
     "execution_count": 60,
     "metadata": {},
     "output_type": "execute_result"
    }
   ],
   "source": [
    "#Last rows\n",
    "df.tail()"
   ]
  },
  {
   "cell_type": "code",
   "execution_count": 61,
   "id": "87edf4ae",
   "metadata": {},
   "outputs": [
    {
     "name": "stdout",
     "output_type": "stream",
     "text": [
      "<class 'pandas.core.frame.DataFrame'>\n",
      "RangeIndex: 170095 entries, 0 to 170094\n",
      "Data columns (total 19 columns):\n",
      " #   Column                    Non-Null Count   Dtype  \n",
      "---  ------                    --------------   -----  \n",
      " 0   ARREST_KEY                170095 non-null  int64  \n",
      " 1   ARREST_DATE               170095 non-null  object \n",
      " 2   PD_CD                     170095 non-null  int64  \n",
      " 3   PD_DESC                   170095 non-null  object \n",
      " 4   KY_CD                     170082 non-null  float64\n",
      " 5   OFNS_DESC                 170095 non-null  object \n",
      " 6   LAW_CODE                  170095 non-null  object \n",
      " 7   LAW_CAT_CD                168838 non-null  object \n",
      " 8   ARREST_BORO               170095 non-null  object \n",
      " 9   ARREST_PRECINCT           170095 non-null  int64  \n",
      " 10  JURISDICTION_CODE         170095 non-null  int64  \n",
      " 11  AGE_GROUP                 170095 non-null  object \n",
      " 12  PERP_SEX                  170095 non-null  object \n",
      " 13  PERP_RACE                 170095 non-null  object \n",
      " 14  X_COORD_CD                170095 non-null  int64  \n",
      " 15  Y_COORD_CD                170095 non-null  int64  \n",
      " 16  Latitude                  170095 non-null  float64\n",
      " 17  Longitude                 170095 non-null  float64\n",
      " 18  New Georeferenced Column  170095 non-null  object \n",
      "dtypes: float64(3), int64(6), object(10)\n",
      "memory usage: 24.7+ MB\n"
     ]
    }
   ],
   "source": [
    "#Summary of the dataframe\n",
    "df.info()"
   ]
  },
  {
   "cell_type": "code",
   "execution_count": 62,
   "id": "c3e48ae7",
   "metadata": {},
   "outputs": [
    {
     "data": {
      "text/plain": [
       "0         False\n",
       "1         False\n",
       "2         False\n",
       "3         False\n",
       "4         False\n",
       "          ...  \n",
       "170090    False\n",
       "170091    False\n",
       "170092    False\n",
       "170093    False\n",
       "170094    False\n",
       "Length: 170095, dtype: bool"
      ]
     },
     "execution_count": 62,
     "metadata": {},
     "output_type": "execute_result"
    }
   ],
   "source": [
    "#Finding out if there are any duplicates in the dataframe\n",
    "df.duplicated()"
   ]
  },
  {
   "cell_type": "code",
   "execution_count": 63,
   "id": "5543a373",
   "metadata": {},
   "outputs": [
    {
     "data": {
      "text/plain": [
       "Index(['ARREST_KEY', 'ARREST_DATE', 'PD_CD', 'PD_DESC', 'KY_CD', 'OFNS_DESC',\n",
       "       'LAW_CODE', 'LAW_CAT_CD', 'ARREST_BORO', 'ARREST_PRECINCT',\n",
       "       'JURISDICTION_CODE', 'AGE_GROUP', 'PERP_SEX', 'PERP_RACE', 'X_COORD_CD',\n",
       "       'Y_COORD_CD', 'Latitude', 'Longitude', 'New Georeferenced Column'],\n",
       "      dtype='object')"
      ]
     },
     "execution_count": 63,
     "metadata": {},
     "output_type": "execute_result"
    }
   ],
   "source": [
    "#Total number of orignal columns\n",
    "df.columns"
   ]
  },
  {
   "cell_type": "code",
   "execution_count": 64,
   "id": "23f1e244",
   "metadata": {},
   "outputs": [],
   "source": [
    "#Dropping columns I don't find necessary\n",
    "drop_cols = ['X_COORD_CD', 'JURISDICTION_CODE','LAW_CAT_CD', 'KY_CD',\n",
    "       'Y_COORD_CD', 'Latitude', 'Longitude', 'New Georeferenced Column']\n",
    "df.drop(drop_cols, inplace = True, axis=1)"
   ]
  },
  {
   "cell_type": "code",
   "execution_count": 65,
   "id": "446dd06b",
   "metadata": {},
   "outputs": [
    {
     "data": {
      "text/plain": [
       "(170095, 11)"
      ]
     },
     "execution_count": 65,
     "metadata": {},
     "output_type": "execute_result"
    }
   ],
   "source": [
    "#Columns dropped\n",
    "df.shape"
   ]
  },
  {
   "cell_type": "code",
   "execution_count": 66,
   "id": "ae95c1e8",
   "metadata": {},
   "outputs": [
    {
     "data": {
      "text/plain": [
       "Index(['ARREST_KEY', 'ARREST_DATE', 'PD_CD', 'PD_DESC', 'OFNS_DESC',\n",
       "       'LAW_CODE', 'ARREST_BORO', 'ARREST_PRECINCT', 'AGE_GROUP', 'PERP_SEX',\n",
       "       'PERP_RACE'],\n",
       "      dtype='object')"
      ]
     },
     "execution_count": 66,
     "metadata": {},
     "output_type": "execute_result"
    }
   ],
   "source": [
    "#Printing to check if Columns actually dropped\n",
    "df.columns"
   ]
  },
  {
   "cell_type": "code",
   "execution_count": 67,
   "id": "df62565f",
   "metadata": {},
   "outputs": [
    {
     "data": {
      "text/plain": [
       "0"
      ]
     },
     "execution_count": 67,
     "metadata": {},
     "output_type": "execute_result"
    }
   ],
   "source": [
    "#Number of missing values in data\n",
    "df.isnull().sum().sum()"
   ]
  },
  {
   "cell_type": "code",
   "execution_count": 68,
   "id": "d19bd6c4",
   "metadata": {},
   "outputs": [
    {
     "data": {
      "text/html": [
       "<div>\n",
       "<style scoped>\n",
       "    .dataframe tbody tr th:only-of-type {\n",
       "        vertical-align: middle;\n",
       "    }\n",
       "\n",
       "    .dataframe tbody tr th {\n",
       "        vertical-align: top;\n",
       "    }\n",
       "\n",
       "    .dataframe thead th {\n",
       "        text-align: right;\n",
       "    }\n",
       "</style>\n",
       "<table border=\"1\" class=\"dataframe\">\n",
       "  <thead>\n",
       "    <tr style=\"text-align: right;\">\n",
       "      <th></th>\n",
       "      <th>ARREST_KEY</th>\n",
       "      <th>ARREST_DATE</th>\n",
       "      <th>PD_CD</th>\n",
       "      <th>PD_DESC</th>\n",
       "      <th>OFNS_DESC</th>\n",
       "      <th>LAW_CODE</th>\n",
       "      <th>ARREST_BORO</th>\n",
       "      <th>ARREST_PRECINCT</th>\n",
       "      <th>AGE_GROUP</th>\n",
       "      <th>PERP_SEX</th>\n",
       "      <th>PERP_RACE</th>\n",
       "    </tr>\n",
       "  </thead>\n",
       "  <tbody>\n",
       "    <tr>\n",
       "      <th>0</th>\n",
       "      <td>261209118</td>\n",
       "      <td>01/01/2023</td>\n",
       "      <td>109</td>\n",
       "      <td>ASSAULT 2,1,UNCLASSIFIED</td>\n",
       "      <td>FELONY ASSAULT</td>\n",
       "      <td>PL 1200501</td>\n",
       "      <td>K</td>\n",
       "      <td>77</td>\n",
       "      <td>45-64</td>\n",
       "      <td>F</td>\n",
       "      <td>BLACK</td>\n",
       "    </tr>\n",
       "    <tr>\n",
       "      <th>1</th>\n",
       "      <td>262984267</td>\n",
       "      <td>02/03/2023</td>\n",
       "      <td>515</td>\n",
       "      <td>CONTROLLED SUBSTANCE,SALE 3</td>\n",
       "      <td>DANGEROUS DRUGS</td>\n",
       "      <td>PL 2203901</td>\n",
       "      <td>K</td>\n",
       "      <td>73</td>\n",
       "      <td>25-44</td>\n",
       "      <td>M</td>\n",
       "      <td>BLACK</td>\n",
       "    </tr>\n",
       "    <tr>\n",
       "      <th>2</th>\n",
       "      <td>263664549</td>\n",
       "      <td>02/15/2023</td>\n",
       "      <td>105</td>\n",
       "      <td>STRANGULATION 1ST</td>\n",
       "      <td>FELONY ASSAULT</td>\n",
       "      <td>PL 1211200</td>\n",
       "      <td>K</td>\n",
       "      <td>62</td>\n",
       "      <td>25-44</td>\n",
       "      <td>M</td>\n",
       "      <td>WHITE</td>\n",
       "    </tr>\n",
       "    <tr>\n",
       "      <th>3</th>\n",
       "      <td>261345231</td>\n",
       "      <td>01/04/2023</td>\n",
       "      <td>105</td>\n",
       "      <td>STRANGULATION 1ST</td>\n",
       "      <td>FELONY ASSAULT</td>\n",
       "      <td>PL 1211200</td>\n",
       "      <td>M</td>\n",
       "      <td>32</td>\n",
       "      <td>25-44</td>\n",
       "      <td>M</td>\n",
       "      <td>BLACK</td>\n",
       "    </tr>\n",
       "    <tr>\n",
       "      <th>4</th>\n",
       "      <td>263536618</td>\n",
       "      <td>02/13/2023</td>\n",
       "      <td>109</td>\n",
       "      <td>ASSAULT 2,1,UNCLASSIFIED</td>\n",
       "      <td>FELONY ASSAULT</td>\n",
       "      <td>PL 12005WX</td>\n",
       "      <td>K</td>\n",
       "      <td>71</td>\n",
       "      <td>25-44</td>\n",
       "      <td>M</td>\n",
       "      <td>BLACK</td>\n",
       "    </tr>\n",
       "  </tbody>\n",
       "</table>\n",
       "</div>"
      ],
      "text/plain": [
       "   ARREST_KEY ARREST_DATE  PD_CD                      PD_DESC  \\\n",
       "0   261209118  01/01/2023    109     ASSAULT 2,1,UNCLASSIFIED   \n",
       "1   262984267  02/03/2023    515  CONTROLLED SUBSTANCE,SALE 3   \n",
       "2   263664549  02/15/2023    105            STRANGULATION 1ST   \n",
       "3   261345231  01/04/2023    105            STRANGULATION 1ST   \n",
       "4   263536618  02/13/2023    109     ASSAULT 2,1,UNCLASSIFIED   \n",
       "\n",
       "         OFNS_DESC    LAW_CODE ARREST_BORO  ARREST_PRECINCT AGE_GROUP  \\\n",
       "0   FELONY ASSAULT  PL 1200501           K               77     45-64   \n",
       "1  DANGEROUS DRUGS  PL 2203901           K               73     25-44   \n",
       "2   FELONY ASSAULT  PL 1211200           K               62     25-44   \n",
       "3   FELONY ASSAULT  PL 1211200           M               32     25-44   \n",
       "4   FELONY ASSAULT  PL 12005WX           K               71     25-44   \n",
       "\n",
       "  PERP_SEX PERP_RACE  \n",
       "0        F     BLACK  \n",
       "1        M     BLACK  \n",
       "2        M     WHITE  \n",
       "3        M     BLACK  \n",
       "4        M     BLACK  "
      ]
     },
     "execution_count": 68,
     "metadata": {},
     "output_type": "execute_result"
    }
   ],
   "source": [
    "#Checking if Columns werer actually dropped \n",
    "df.head()"
   ]
  },
  {
   "cell_type": "code",
   "execution_count": 39,
   "id": "36fb2d4d",
   "metadata": {},
   "outputs": [
    {
     "name": "stdout",
     "output_type": "stream",
     "text": [
      "ARREST_BORO\n",
      "B    (B, ASSAULT 3 & RELATED OFFENSES)\n",
      "K    (K, ASSAULT 3 & RELATED OFFENSES)\n",
      "M                   (M, PETIT LARCENY)\n",
      "Q    (Q, ASSAULT 3 & RELATED OFFENSES)\n",
      "S    (S, ASSAULT 3 & RELATED OFFENSES)\n",
      "dtype: object\n"
     ]
    }
   ],
   "source": [
    "# Group the data by BORO and OFNS_DESC, and count the frequency of each pair\n",
    "grouped = df.groupby([\"ARREST_BORO\", \"OFNS_DESC\"]).size()\n",
    "\n",
    "# Find the OFNS_DESC with the highest frequency for each BORO\n",
    "result = grouped.groupby(level=0).idxmax()\n",
    "\n",
    "# Print the result\n",
    "print(result)"
   ]
  },
  {
   "cell_type": "code",
   "execution_count": 40,
   "id": "beb4136e",
   "metadata": {},
   "outputs": [
    {
     "name": "stdout",
     "output_type": "stream",
     "text": [
      "ARREST_BORO\n",
      "B    (B, ASSAULT 3 & RELATED OFFENSES)\n",
      "K    (K, ASSAULT 3 & RELATED OFFENSES)\n",
      "M                   (M, PETIT LARCENY)\n",
      "Q    (Q, ASSAULT 3 & RELATED OFFENSES)\n",
      "S    (S, ASSAULT 3 & RELATED OFFENSES)\n",
      "dtype: object\n"
     ]
    },
    {
     "data": {
      "image/png": "[encoded data removed]",
      "text/plain": [
       "<Figure size 640x480 with 1 Axes>"
      ]
     },
     "metadata": {},
     "output_type": "display_data"
    }
   ],
   "source": [
    "#VISUAL FOR QUESTION 1\n",
    "\n",
    "# Group the data by BORO and OFNS_DESC, and count the frequency of each pair\n",
    "grouped = df.groupby([\"ARREST_BORO\", \"OFNS_DESC\"]).size()\n",
    "\n",
    "# Find the OFNS_DESC with the highest frequency for each BORO\n",
    "result = grouped.groupby(level=0).idxmax()\n",
    "\n",
    "# Print the result\n",
    "print(result)\n",
    "\n",
    "# Create a list of labels for each BORO\n",
    "labels = [\"BK\", \"BX\", \"MN\", \"QN\", \"SI\"]\n",
    "\n",
    "# Create a list of values for each BORO\n",
    "values = [grouped[result[0]], grouped[result[1]], grouped[result[2]], grouped[result[3]], grouped[result[4]]]\n",
    "\n",
    "# Plot the bar graph\n",
    "plt.bar(labels, values, color='green', width=0.5, align='center')\n",
    "\n",
    "# Add labels to the x-axis and y-axis\n",
    "plt.xlabel(\"BORO\")\n",
    "plt.ylabel(\"Frequency\")\n",
    "\n",
    "# Add a title to the bar graph\n",
    "plt.title(\"Most common reasons for arrests by BORO\")\n",
    "\n",
    "# Show the bar graph\n",
    "plt.show()"
   ]
  },
  {
   "cell_type": "markdown",
   "id": "926b990b",
   "metadata": {},
   "source": [
    "NOTE:\n",
    "ASSAULT 3 & RELATED OFFENSES is a term used in the New York Penal Law to describe various types of assault and other crimes that involve causing physical injury or fear of injury to another person. The definition and punishment of each offense depends on the degree, the intent, the weapon, and the victim of the assault. \n",
    "For example, assault in the third degree is a class A misdemeanor that occurs when a person intentionally, recklessly, or negligently causes physical injury to another person with a deadly weapon or a dangerous instrument.\n",
    "\n",
    "PETIT LARCENY, also known as petty theft, is the minor crime of stealing items of relatively low value3. The legal definition and penalty of petit larceny vary by jurisdiction, but generally it is a misdemeanor that involves stealing property worth less than a certain amount, such as $5 or $1,000. \n",
    "Sources:\n",
    "https://ypdcrime.com/penal.law/article155.php?zoom_highlight=petit+larceny\n",
    "https://law.lis.virginia.gov/vacode/title18.2/chapter5/section18.2-96/   "
   ]
  },
  {
   "cell_type": "markdown",
   "id": "bfa96968",
   "metadata": {},
   "source": [
    "Question 2: Which sex has the highest number of arrests in each borough?\n",
    "Answer: The sex that have the highest number of arrest is Male for all boroughs."
   ]
  },
  {
   "cell_type": "code",
   "execution_count": 89,
   "id": "37b4bd0f",
   "metadata": {},
   "outputs": [
    {
     "name": "stdout",
     "output_type": "stream",
     "text": [
      "ARREST_BORO\n",
      "B    (B, M)\n",
      "K    (K, M)\n",
      "M    (M, M)\n",
      "Q    (Q, M)\n",
      "S    (S, M)\n",
      "dtype: object\n"
     ]
    }
   ],
   "source": [
    "# Group the data by BORO and SEX, and count the frequency of each pair\n",
    "grouped = df.groupby([\"ARREST_BORO\", \"PERP_SEX\"]).size()\n",
    "\n",
    "# Find the SEX with the highest frequency for each BORO\n",
    "result = grouped.groupby(level=0).idxmax()\n",
    "\n",
    "# Print the result\n",
    "print(result)"
   ]
  },
  {
   "cell_type": "code",
   "execution_count": 98,
   "id": "3a556abe",
   "metadata": {},
   "outputs": [
    {
     "name": "stderr",
     "output_type": "stream",
     "text": [
      "C:\\Anaconda3\\Lib\\site-packages\\seaborn\\axisgrid.py:118: UserWarning: The figure layout has changed to tight\n",
      "  self._figure.tight_layout(*args, **kwargs)\n"
     ]
    },
    {
     "data": {
      "text/plain": [
       "<seaborn.axisgrid.FacetGrid at 0x1aa0527a150>"
      ]
     },
     "execution_count": 98,
     "metadata": {},
     "output_type": "execute_result"
    },
    {
     "data": {
      "image/png": "[encoded data removed]",
      "text/plain": [
       "<Figure size 562x500 with 1 Axes>"
      ]
     },
     "metadata": {},
     "output_type": "display_data"
    }
   ],
   "source": [
    "#VISUAL FOR QUESTION 2\n",
    "\n",
    "#SEABORN GRAPH\n",
    "df = df[df['ARREST_BORO'].isin(['K', 'B'])] # Filter the boroughs\n",
    "df = df[['ARREST_BORO', 'PERP_SEX']] # Select the columns\n",
    "df = df.groupby(['ARREST_BORO', 'PERP_SEX']).size() # Group by the borough and sex and count the arrests\n",
    "df = df.sort_values(ascending=False) # Sort by the number of arrests\n",
    "# print(df) # Print the result\n",
    "\n",
    "# Create a new dataframe with the index as columns\n",
    "df = df.reset_index()\n",
    "# Rename the columns\n",
    "df.columns = ['Borough', 'Sex', 'Arrests']\n",
    "# Plot the dataframe using seaborn\n",
    "sns.catplot(data=df, x='Borough', y='Arrests', hue='Sex', kind='bar')"
   ]
  },
  {
   "cell_type": "markdown",
   "id": "6166e890",
   "metadata": {},
   "source": [
    "Question 3:Which age group has the most arrests in each borough?\n",
    "Answer: The age group with the most arrests in each borough is 25-44 years."
   ]
  },
  {
   "cell_type": "code",
   "execution_count": 103,
   "id": "5729ddc7",
   "metadata": {},
   "outputs": [
    {
     "name": "stdout",
     "output_type": "stream",
     "text": [
      "ARREST_BORO\n",
      "B    (B, 25-44)\n",
      "K    (K, 25-44)\n",
      "M    (M, 25-44)\n",
      "Q    (Q, 25-44)\n",
      "S    (S, 25-44)\n",
      "dtype: object\n"
     ]
    }
   ],
   "source": [
    "#I had to rewrite url link otherwise it would not work\n",
    "url = \"https://data.cityofnewyork.us/api/views/uip8-fykc/rows.csv?accessType=DOWNLOAD\"\n",
    "df = pd.read_csv(url)\n",
    "\n",
    "# Group the data by BORO and AGE_GROUP, and count the frequency of each pair\n",
    "grouped = df.groupby([\"ARREST_BORO\", \"AGE_GROUP\"]).size()\n",
    "\n",
    "# Find the AGE_GROUP with the highest frequency for each BORO\n",
    "result = grouped.groupby(level=0).idxmax()\n",
    "\n",
    "# Print the result\n",
    "print(result)"
   ]
  },
  {
   "cell_type": "code",
   "execution_count": 106,
   "id": "08c4de92",
   "metadata": {},
   "outputs": [
    {
     "name": "stdout",
     "output_type": "stream",
     "text": [
      "ARREST_BORO\n",
      "B    (B, 25-44)\n",
      "K    (K, 25-44)\n",
      "M    (M, 25-44)\n",
      "Q    (Q, 25-44)\n",
      "S    (S, 25-44)\n",
      "dtype: object\n"
     ]
    },
    {
     "data": {
      "image/png": "[encoded data removed]",
      "text/plain": [
       "<Figure size 640x480 with 1 Axes>"
      ]
     },
     "metadata": {},
     "output_type": "display_data"
    }
   ],
   "source": [
    "#VISUAL FOR QUESTION 3\n",
    "\n",
    "# Group the data by BORO and AGE_GROUP, and count the frequency of each pair\n",
    "grouped = df.groupby([\"ARREST_BORO\", \"AGE_GROUP\"]).size()\n",
    "\n",
    "# Find the AGE_GROUP with the highest frequency for each BORO\n",
    "result = grouped.groupby(level=0).idxmax()\n",
    "\n",
    "# Print the result\n",
    "print(result)\n",
    "\n",
    "# Create a list of labels for each BORO\n",
    "labels = [\"BK\", \"BX\", \"MN\", \"QN\", \"SI\"]\n",
    "\n",
    "# Create a list of values for each BORO\n",
    "values = [grouped[result[0]], grouped[result[1]], grouped[result[2]], grouped[result[3]], grouped[result[4]]]\n",
    "\n",
    "# Plot the pie chart\n",
    "plt.pie(values, labels=labels, autopct=\"%1.1f%%\", explode=(0.1, 0, 0, 0, 0), shadow=True)\n",
    "\n",
    "# Add a title\n",
    "plt.title(\"Highest frequency of AGE_GROUP by BORO\")\n",
    "\n",
    "# Show the pie chart\n",
    "plt.show()"
   ]
  },
  {
   "cell_type": "markdown",
   "id": "4a7880a0",
   "metadata": {},
   "source": [
    "Question 4: Which borough had the total highest number of arrests? \n",
    "Answer: The borough with the total highest number of arrests is Brooklyn."
   ]
  },
  {
   "cell_type": "code",
   "execution_count": 107,
   "id": "2d6c9015",
   "metadata": {},
   "outputs": [
    {
     "name": "stdout",
     "output_type": "stream",
     "text": [
      "             ARREST_KEY\n",
      "ARREST_BORO            \n",
      "K                 46825\n",
      "B                 39957\n",
      "M                 39652\n",
      "Q                 36246\n",
      "S                  7415\n"
     ]
    }
   ],
   "source": [
    "df = df[['ARREST_BORO', 'ARREST_KEY']] # Select the columns\n",
    "df = df.groupby ('ARREST_BORO').count () # Group by the borough and count the arrests\n",
    "df = df.sort_values ('ARREST_KEY', ascending=False) # Sort by the number of arrests\n",
    "print (df) # Print the result"
   ]
  },
  {
   "cell_type": "code",
   "execution_count": 110,
   "id": "f2de84d5",
   "metadata": {},
   "outputs": [
    {
     "name": "stdout",
     "output_type": "stream",
     "text": [
      "             ARREST_KEY\n",
      "ARREST_BORO            \n",
      "K                 46825\n",
      "B                 39957\n",
      "M                 39652\n",
      "Q                 36246\n",
      "S                  7415\n"
     ]
    },
    {
     "data": {
      "image/png": "[encoded data removed]",
      "text/plain": [
       "<Figure size 640x480 with 1 Axes>"
      ]
     },
     "metadata": {},
     "output_type": "display_data"
    }
   ],
   "source": [
    "#VISUAL FOR QUESTION 4\n",
    "\n",
    "url = \"https://data.cityofnewyork.us/api/views/uip8-fykc/rows.csv?accessType=DOWNLOAD\"\n",
    "df = pd.read_csv(url)\n",
    "\n",
    "# Select the columns\n",
    "df = df[['ARREST_BORO', 'ARREST_KEY']]\n",
    "\n",
    "# Group by the borough and count the arrests\n",
    "df = df.groupby('ARREST_BORO').count()\n",
    "\n",
    "# Sort by the number of arrests\n",
    "df = df.sort_values('ARREST_KEY', ascending=False)\n",
    "\n",
    "# Print the result\n",
    "print(df)\n",
    "\n",
    "# Create a list of labels for the x-axis\n",
    "x_axis = ['K', 'BX', 'MN', 'QN', 'SI']\n",
    "\n",
    "# Create a list of values for the y-axis\n",
    "y_axis = [df['ARREST_KEY']['K'], df['ARREST_KEY']['B'], df['ARREST_KEY']['M'], df['ARREST_KEY']['Q'], df['ARREST_KEY']['S']]\n",
    "\n",
    "# Plot the bar graph\n",
    "plt.bar(x_axis, y_axis, color='orange', width=0.5, align='center')\n",
    "\n",
    "# Add labels to the x-axis and y-axis\n",
    "plt.xlabel('Borough')\n",
    "plt.ylabel('Number of arrests')\n",
    "\n",
    "# Add a title to the bar graph\n",
    "plt.title('Number of arrests by borough')\n",
    "\n",
    "# Show the bar graph\n",
    "plt.show()\n"
   ]
  },
  {
   "cell_type": "code",
   "execution_count": 113,
   "id": "9e484309",
   "metadata": {},
   "outputs": [
    {
     "name": "stdout",
     "output_type": "stream",
     "text": [
      "             ARREST_KEY\n",
      "ARREST_BORO            \n",
      "K                 46825\n",
      "B                 39957\n",
      "M                 39652\n",
      "Q                 36246\n",
      "S                  7415\n"
     ]
    },
    {
     "data": {
      "image/png": "[encoded data removed]",
      "text/plain": [
       "<Figure size 640x480 with 1 Axes>"
      ]
     },
     "metadata": {},
     "output_type": "display_data"
    }
   ],
   "source": [
    "#SECOND VISUAL FOR QUESTION 4\n",
    "\n",
    "\n",
    "url = \"https://data.cityofnewyork.us/api/views/uip8-fykc/rows.csv?accessType=DOWNLOAD\"\n",
    "df = pd.read_csv(url)\n",
    "# Select the columns\n",
    "df = df[['ARREST_BORO', 'ARREST_KEY']]\n",
    "\n",
    "# Group by the borough and count the arrests\n",
    "df = df.groupby('ARREST_BORO').count()\n",
    "\n",
    "# Sort by the number of arrests\n",
    "df = df.sort_values('ARREST_KEY', ascending=False)\n",
    "\n",
    "# Print the result\n",
    "print(df)\n",
    "\n",
    "# Create a list of values for the x-axis\n",
    "x_axis = ['K', 'B', 'M', 'Q', 'S']\n",
    "\n",
    "# Create a list of values for the y-axis\n",
    "y_axis = [df['ARREST_KEY']['K'], df['ARREST_KEY']['B'], df['ARREST_KEY']['M'], df['ARREST_KEY']['Q'], df['ARREST_KEY']['S']]\n",
    "\n",
    "# Plot the line graph\n",
    "plt.plot(x_axis, y_axis)\n",
    "\n",
    "# Add labels and title\n",
    "plt.xlabel('Borough')\n",
    "plt.ylabel('Number of arrests')\n",
    "plt.title('Number of arrests by borough')\n",
    "\n",
    "# Show the line graph\n",
    "plt.show()"
   ]
  },
  {
   "cell_type": "markdown",
   "id": "3011d3c7",
   "metadata": {},
   "source": [
    "Question 5: Which Precincts had the highest number of arrest in each borough?\n",
    "Answer: Precinct 44 in Bronx, \n",
    "75 in Brooklyn, \n",
    "14 in Manhattan, \n",
    "103 in Queens, and \n",
    "120 in Staten Island.     "
   ]
  },
  {
   "cell_type": "code",
   "execution_count": 117,
   "id": "27a5a291",
   "metadata": {},
   "outputs": [
    {
     "name": "stdout",
     "output_type": "stream",
     "text": [
      "ARREST_BORO\n",
      "B     (B, 44)\n",
      "K     (K, 75)\n",
      "M     (M, 14)\n",
      "Q    (Q, 103)\n",
      "S    (S, 120)\n",
      "Name: ARREST_KEY, dtype: object\n"
     ]
    }
   ],
   "source": [
    "# Group the data by BORO and PRECINCT, and calculate the sum of ARREST_KEY\n",
    "grouped = df.groupby([\"ARREST_BORO\", \"ARREST_PRECINCT\"])[\"ARREST_KEY\"].sum()\n",
    "\n",
    "# Find the PRECINCT with the highest arrest for each BORO\n",
    "result = grouped.groupby(level=0).idxmax()\n",
    "\n",
    "# Print the result\n",
    "print(result)"
   ]
  },
  {
   "cell_type": "markdown",
   "id": "2e26d316",
   "metadata": {},
   "source": [
    "Conclusion: "
   ]
  },
  {
   "cell_type": "markdown",
   "id": "a8f0e778",
   "metadata": {},
   "source": [
    "The data analysis shows that ASSAULT 3 & RELATED OFFENSES is the most common crime category in Brooklyn, and that males and 25-44 year olds are the most frequent offenders across all boroughs. The data also identifies the top five precincts with the highest number of arrests: 44 (Bronx), 75 (Brooklyn), 14 (Manhattan), 103 (Queens), and 120 (Staten Island). These precincts correspond to neighborhoods with high poverty rates and low income levels, suggesting a link between socio-economic factors and crime rates. For instance, Precinct 75 in Brooklyn covers East New York and Cypress Hill, which are among the poorest and most violent areas in the city."
   ]
  },
  {
   "cell_type": "markdown",
   "id": "148725d2",
   "metadata": {},
   "source": [
    "Sources:\n",
    "   ▪ https://realpython.com/pandas-python-explore-dataset/\n",
    "   ▪ https://intersog.com/blog/the-basics-of-qa-systems-from-a-single-function-to-a-pre-trained-nlp-model-using-python/\n",
    "   ▪ https://www.youtube.com/watch?v=Vm9wIcBMfhQ\n",
    "   ▪ https://pythongeeks.org/python-scatter-plot/\n",
    "   ▪ https://stackoverflow.com/questions/74380288/how-turn-data-into-bar-chart\n",
    "   ▪ https://datatofish.com/bar-chart-python-matplotlib/\n",
    "   ▪ https://www.geeksforgeeks.org/bar-plot-in-matplotlib/\n",
    "   ▪ https://note.nkmk.me/en/python-pandas-len-shape-size/\n",
    "   ▪ https://pandas.pydata.org/pandas-docs/stable/reference/api/pandas.DataFrame.shape.html\n",
    "   ▪ https://matplotlib.org/stable/gallery/pie_and_polar_charts/pie_features.html\n",
    "   ▪ https://en.wikipedia.org/wiki/Boroughs_of_New_York_City\n",
    "   ▪ https://nypost.com/2022/07/27/this-brooklyn-nypd-precinct-is-the-bloodiest-in-new-york-city/\n",
    "   ▪ https://www.nyc.gov/assets/doh/downloads/pdf/data/2015chp-bk5.pdf"
   ]
  }
 ],
 "metadata": {
  "kernelspec": {
   "display_name": "Python 3 (ipykernel)",
   "language": "python",
   "name": "python3"
  },
  "language_info": {
   "codemirror_mode": {
    "name": "ipython",
    "version": 3
   },
   "file_extension": ".py",
   "mimetype": "text/x-python",
   "name": "python",
   "nbconvert_exporter": "python",
   "pygments_lexer": "ipython3",
   "version": "3.11.5"
  }
 },
 "nbformat": 4,
 "nbformat_minor": 5
}
